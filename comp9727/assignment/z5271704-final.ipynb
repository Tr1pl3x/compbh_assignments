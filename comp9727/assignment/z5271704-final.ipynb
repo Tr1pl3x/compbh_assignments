{
 "cells": [
  {
   "cell_type": "markdown",
   "metadata": {},
   "source": [
    "# **COMP9727 Recommender Systems**\n",
    "## Assignment: Content-Based Movie Recommendation\n",
    "\n",
    "@Author: Pyae Sone OO (z5271704)\n"
   ]
  },
  {
   "cell_type": "markdown",
   "metadata": {},
   "source": [
    "## Setting Up\n",
    "\n",
    "For the first part of the assignment, the set up steps are based on the code from tutorial"
   ]
  },
  {
   "cell_type": "markdown",
   "metadata": {},
   "source": [
    "#### Initialising the directory for dataset\n",
    "\n",
    "Before you run the code, please double the check the directory. Initially, the dataset folder is in the same directory as this file."
   ]
  },
  {
   "cell_type": "code",
   "execution_count": 1,
   "metadata": {},
   "outputs": [],
   "source": [
    "dataset_dir = \"dataset/\""
   ]
  },
  {
   "cell_type": "markdown",
   "metadata": {},
   "source": [
    "#### Loading Data\n",
    "\n",
    "We will load the dataset and convert it into a data frame."
   ]
  },
  {
   "cell_type": "code",
   "execution_count": 2,
   "metadata": {},
   "outputs": [],
   "source": [
    "import pandas as pd\n",
    "\n",
    "# Define the genre labels and file paths\n",
    "genre_labels = [\"animation\", \"comedy\", \"drama\", \"family\", \"horror\", \"romance\", \"sci-fi\", \"thriller\"]\n",
    "# NOTE: You can modify directory for the dataset here\n",
    "genre_files = [f\"{dataset_dir}{genre}.tsv\" for genre in genre_labels] \n",
    "\n",
    "genre_dict = {}\n",
    "\n",
    "# Check if each genre file exists and read it\n",
    "for file_path, genre in zip(genre_files, genre_labels):\n",
    "    try:\n",
    "        df = pd.read_csv(file_path, sep='\\t')\n",
    "        df.columns = [\"Title\", \"Year\", \"Genre\", \"Director\", \"Cast\", \"Plot\", \"Country\"]\n",
    "        # Create 'Document' column by linking relevant fields\n",
    "        df['Document'] = df.apply(lambda row: f\"{row['Title']} {row['Year']} {row['Genre']} {row['Director']} {row['Cast']} {row['Plot']} {row['Country']}\", axis=1)\n",
    "        genre_dict[genre] = df\n",
    "    except Exception as e:\n",
    "        print(f\"An error occurred while reading {file_path}: {e}\")\n",
    "\n",
    "# Combine all movie data into a single DataFrame\n",
    "if genre_dict:\n",
    "    all_movies = pd.concat(genre_dict.values(), ignore_index=True)\n",
    "else:\n",
    "    print(\"ERROR: Empty Genre Dictionary. Try again.\")"
   ]
  },
  {
   "cell_type": "markdown",
   "metadata": {},
   "source": [
    "#### Data Cleansing \n",
    "\n",
    "We will remove the duplicates and missing values in our dataset."
   ]
  },
  {
   "cell_type": "code",
   "execution_count": 3,
   "metadata": {},
   "outputs": [],
   "source": [
    "all_movies = all_movies.drop_duplicates();\n",
    "all_movies = all_movies.dropna()"
   ]
  },
  {
   "cell_type": "markdown",
   "metadata": {},
   "source": [
    "#### Preparation for Machine Learning\n",
    "We will define two varaibles X and y, to reduce reptitive  and long varaible name call."
   ]
  },
  {
   "cell_type": "code",
   "execution_count": 4,
   "metadata": {},
   "outputs": [],
   "source": [
    "# X: Feature data (preprocessed documents)\n",
    "# y: Labels (genres)\n",
    "X = all_movies['Document']\n",
    "y = all_movies['Genre']"
   ]
  },
  {
   "cell_type": "markdown",
   "metadata": {},
   "source": [
    "## Part 1: Topic (Genre) Classification\n",
    "\n",
    "### Q1 (2 marks) \n",
    "There are a few simplifications in the Jupyter notebook in the tutorial: (i) the regex might remove too many special characters, and (ii) the evaluation is based on only one training test split rather than using cross-validation. Explain how you are going to fix these mistakes and then highlight any changes to the code in the answers to the next questions.\n",
    "\n",
    "[Ans] <br>\n",
    "\n",
    "Firstly, the code from the tutorial was removing too many special characters. To preserve potential data from the provided movie dataset, we must consider some special characters that a movie title could contain. Hence, we will modify the code to allow alphanumeric numbers, whitespaces, and punctuation marks such as periods, commas, exclamation points, and question marks. The code will look as follows: ``` text = re.sub(r'[^\\w\\s.,!?]', '', text)```\n",
    "\n",
    "Secondly, cross-validation is preferred over a single training-test split because it allows more reliable model performance by evaluating the model on multiple subsets of the data. Hence, it reduces the impact of random variations and improves generalization to new data. For the cross-validation method, StratifiedKfold would be used due to the nature of the dataset where the target variable is a genre and there is imbalanced distribution of genres. This method would ensure each fold is representative of the overall dataset.\n"
   ]
  },
  {
   "cell_type": "markdown",
   "metadata": {},
   "source": [
    "### Q2 (2 marks) \n",
    "Develop a Multinomial Naive Bayes (MNB) model similar to the Bernoulli Naive Bayes (BNB) model. Now consider all the steps in text preprocessing used prior to classification with both BNB and MNB. The aim here is to find preprocessing steps that maximize overall accuracy (under the default settings of the classifiers and using CountVectorizer with the standard settings). Consider the special characters to be removed (and how and when they are removed), the definition of a “word”, the stopword list (from either NLTK or scikit-learn), lowercasing andstemming/lemmatization. Summarize the preprocessing steps that you think work “best” overall and do not change this for the rest of the assignment.\n",
    "\n",
    "[Ans] <br>\n",
    "First of all, we are going to preprocess the text data because raw text data contains unwanted character, punctuations and stopwords which makes it unstructured and noisy so it is important to clean and organise the text data before feeding it into the model. In this process, we are going to implement the redefined Regex expression that was mentioned in the previous question.\n",
    "\n",
    "<u>Note</u>: In the preprocessing function, some of the steps are commented out to yield the higheest accuracy score which are used in the later questions."
   ]
  },
  {
   "cell_type": "code",
   "execution_count": 5,
   "metadata": {},
   "outputs": [
    {
     "name": "stderr",
     "output_type": "stream",
     "text": [
      "[nltk_data] Downloading package stopwords to\n",
      "[nltk_data]     C:\\Users\\z5271\\AppData\\Roaming\\nltk_data...\n",
      "[nltk_data]   Package stopwords is already up-to-date!\n",
      "[nltk_data] Downloading package punkt to\n",
      "[nltk_data]     C:\\Users\\z5271\\AppData\\Roaming\\nltk_data...\n",
      "[nltk_data]   Package punkt is already up-to-date!\n"
     ]
    }
   ],
   "source": [
    "# Import necessary modules\n",
    "import re\n",
    "import nltk\n",
    "from nltk.corpus import stopwords\n",
    "from nltk.tokenize import word_tokenize\n",
    "from nltk.stem import PorterStemmer, WordNetLemmatizer\n",
    "\n",
    "# Download stopwords and punkt tokenizer\n",
    "nltk.download('stopwords')\n",
    "nltk.download('punkt')\n",
    "\n",
    "# Create Instances\n",
    "ps = PorterStemmer()\n",
    "pl = WordNetLemmatizer()\n",
    "\n",
    "# Create a set of English stopwords\n",
    "stop_words = set(stopwords.words('english'))\n",
    "\n",
    "# Define preprocessing function\n",
    "# 1. Lowecasing     - converts to lower case letters\n",
    "# 2. Regex          - Ignoring alphanumeric numbers, whitespaces, and punctuations [. , ! ?]\n",
    "# 3. Tokenising     - tokenize the text in preparation for next steps\n",
    "# 4. Stowords       - Removing common words\n",
    "# 5. Stemming       - Reducing words to their root form (e.g., \"running\" to \"run\")\n",
    "# 6. Lemmatizing    - Reducing words to their dictionary form (e.g., \"better\" to \"good\")\n",
    "# NOTE: some of the steps are commented out to produce highest accuracy score\n",
    "def preprocess_text(text):\n",
    "    text = text.lower()\n",
    "    # text = re.sub(r'[^\\w\\s.,!?]', '', text)\n",
    "    tokens = word_tokenize(text)\n",
    "    tokens = [word for word in tokens if word not in stop_words]\n",
    "    # tokens = [ps.stem(word) for word in tokens]\n",
    "    tokens = [pl.lemmatize(word) for word in tokens]\n",
    "    return ' '.join(tokens)\n",
    "\n",
    "# Apply preprocessing to each document\n",
    "X = X.apply(preprocess_text)"
   ]
  },
  {
   "cell_type": "markdown",
   "metadata": {},
   "source": [
    "As mentioned in the question, we will be using \"**CountVectorizer**\" in the creation of models. In the code below, we will use pipeline which will make it easier to streamline the process of transforming the data and fitting the model. Once the models are created, they will be evaluated using cross-validation instead of train-testsplit because the change in evalutaion method should yield higher and more reliable scores by leveraging the entire dataset more effectively."
   ]
  },
  {
   "cell_type": "code",
   "execution_count": 6,
   "metadata": {},
   "outputs": [
    {
     "name": "stdout",
     "output_type": "stream",
     "text": [
      "Accuracy Score (BNB) =>  0.6512953367875648\n",
      "Accuracy Score (MNB) =>  0.6243523316062176\n"
     ]
    }
   ],
   "source": [
    "## Model Evaluation\n",
    "\n",
    "# Import necessary modules\n",
    "from sklearn.feature_extraction.text import CountVectorizer\n",
    "from sklearn.naive_bayes import MultinomialNB , BernoulliNB\n",
    "from sklearn.pipeline import make_pipeline\n",
    "from sklearn.model_selection import StratifiedKFold, cross_val_score\n",
    "\n",
    "#-- Part.1-2: Using CountVectorizer\n",
    "vectorizer = CountVectorizer()\n",
    "\n",
    "# Define the cross-validation method: StratifiedKfold [explaination in Part1.q1]\n",
    "kf = StratifiedKFold(n_splits=5, shuffle=True, random_state=42)\n",
    "\n",
    "# Create and evaluate Bernoulli Naive Bayes model\n",
    "bnb = BernoulliNB()\n",
    "pipeline_bnb = make_pipeline(vectorizer, bnb)\n",
    "cv_scores_bnb = cross_val_score(pipeline_bnb, X, y, cv=kf, scoring='accuracy')\n",
    "print(\"Accuracy Score (BNB) => \", cv_scores_bnb.mean())\n",
    "\n",
    "\n",
    "# Create and evaluate Multinomial Naive Bayes model\n",
    "mnb = MultinomialNB();\n",
    "pipeline_mnb = make_pipeline(vectorizer, mnb)\n",
    "cv_scores_mnb = cross_val_score(pipeline_mnb, X, y, cv=kf, scoring='accuracy')\n",
    "print(\"Accuracy Score (MNB) => \", cv_scores_mnb.mean())"
   ]
  },
  {
   "cell_type": "markdown",
   "metadata": {},
   "source": [
    "Now, we will record the scores by using different combination of preprocessing techniques to see which method would produce higher scores. Following is the table of accuracy scores using **cross validation** and **CountVectorizer** for both Bernoulli Naive Bayes Model (BNB) and Multinomial Naive Bayes Model (MNB):\n",
    "\n",
    "| LowerCasing | Regex | Stopwords | Stemming | Lemmatizing | BNB score   | MNB score   |\n",
    "|-------------|-------|-----------|----------|-------------|-------------|-------------|\n",
    "| -           | -     | -         | -        | -           | 0.626943005 | 0.625388601 |\n",
    "| ✔           | ✔     | ✔         | ✔        | -           | 0.639896373 | 0.619170984 |\n",
    "| -           | ✔     | ✔         | ✔        | -           | 0.633678756 | 0.617616580 |\n",
    "| ✔           | -     | ✔         | ✔        | -           | 0.650259067 | 0.623316062 |\n",
    "| ✔           | ✔     | -         | ✔        | -           | 0.617098446 | 0.622279793 |\n",
    "| ✔           | -     | -         | ✔        | -           | 0.630051813 | **0.628497409** |\n",
    "| -           | ✔     | -         | ✔        | -           | 0.616580311 | 0.622279793 |\n",
    "| -           | -     | ✔         | ✔        | -           | 0.644559585 | 0.619689119 |\n",
    "| -           | -     | -         | ✔        | -           | 0.629015544 | 0.628497409 |\n",
    "| ✔           | ✔     | ✔         | -        | ✔           | 0.633678756 | 0.626943005 |\n",
    "| -           | ✔     | ✔         | -        | ✔           | 0.625907636 | 0.624870466 |\n",
    "|  ✔         | -     | ✔         | -        | ✔           | **0.651295337** | 0.624352332 |\n",
    "| ✔           | ✔     | -         | -        | ✔           | 0.61865285  | 0.619689119 |\n",
    "| ✔           | -     | -         | -        | ✔           | 0.623834197 | 0.624870466 |\n",
    "| -           | ✔     | -         | -        | ✔           | 0.612953368 | 0.624352332 |\n",
    "| -           | -     | ✔         | -        | ✔           | 0.64559855  | 0.622279793 |\n",
    "| -           | -     | -         | -        | ✔           | 0.62277927  | 0.620725389 |\n",
    "\n",
    "\n",
    "\n",
    "\n"
   ]
  },
  {
   "cell_type": "markdown",
   "metadata": {},
   "source": [
    "As shown in the table, for Bernoulii Naive Bayes Model (BNB),the highest score is 0.651295337 (~ 65.13%) using lowercasing, removal of stopwords and lemmatizing in the preprocessing step. On the other side, for Multinomial Bayes Model, the highest score is 0.628497409 (~ 62.85%) using lowercasing and stemming in the preprocessing step. By comparing the highest scores from both model, I decided to use Lowercasing, removal of stopwards and lemmatizing for assignment."
   ]
  },
  {
   "cell_type": "markdown",
   "metadata": {},
   "source": [
    "### Q3 (2 marks)\n",
    "\n",
    "Compare BNB and MNB models by evaluating them using the full dataset with cross-validation. Choose appropriate metrics from those in the lecture that focus on the overall accuracy of classification (i.e. not top-N metrics). Briefly discuss the tradeoffs between the various\n",
    "metrics and then justify your choice of the main metrics for evaluation, taking into account whether this dataset is balanced or imbalanced. On this basis, conclude whether either of BNB or MNB is superior. Justify this conclusion with plots/tables.\n"
   ]
  },
  {
   "cell_type": "markdown",
   "metadata": {},
   "source": [
    "[Ans] <br>\n",
    "Given this balanced nature of the dataset, the evaluation metrics such as accuracy, precision, recall, and F1-score can all be reliably used to assess model performance as there is no risk of skewed metrics due to class imbalance, making accuracy a valid metric for comparison alongside precision, recall, and F1-score.\n",
    "\n",
    "Various Metrics:\n",
    "* **Overall Accuracy**: Ensures that genres are classified properly, providing an overall accurate score. It represents the ratio of true positives and true negatives to the entire dataset.\n",
    "\n",
    "* **Precision**: Measures the number of true positives classified out of all data classified as positive. It indicates the number of movies correctly classified in the right genre.\n",
    "\n",
    "* **Recall**: Measures the number of true positives classified out of all actual positives. It shows how well the model captures movies that belong to the genre.\n",
    "\n",
    "* **F1-Score**: A balanced measure of precision and recall. It helps to understand the model's performance in terms of both correctly classifying true positives and minimizing false positives and false negatives.\n",
    "\n",
    "In the code below, we will define a function to evaluate the Bernoulli and Multinomial Naive Bayes models using cross-validation on various metrics.Then The results will be compiled into a DataFrame for comparison."
   ]
  },
  {
   "cell_type": "code",
   "execution_count": 7,
   "metadata": {},
   "outputs": [
    {
     "name": "stdout",
     "output_type": "stream",
     "text": [
      "      Metric       BNB       MNB\n",
      "0   Accuracy  0.651295  0.624352\n",
      "1  Precision  0.717376  0.628860\n",
      "2     Recall  0.648062  0.623651\n",
      "3   F1-Score  0.652077  0.619306\n"
     ]
    }
   ],
   "source": [
    "# Function to evaluate the models using cross-validation on various metrics\n",
    "def evaluate_model(pipeline, X, y, cv):\n",
    "    accuracy = cross_val_score(pipeline, X, y, cv=cv, scoring='accuracy').mean()\n",
    "    precision = cross_val_score(pipeline, X, y, cv=cv, scoring='precision_macro').mean()\n",
    "    recall = cross_val_score(pipeline, X, y, cv=cv, scoring='recall_macro').mean()\n",
    "    f1 = cross_val_score(pipeline, X, y, cv=cv, scoring='f1_macro').mean()\n",
    "    return accuracy, precision, recall, f1\n",
    "\n",
    "# Evaluate the models\n",
    "bnb_scores = evaluate_model(pipeline_bnb, X, y, kf)\n",
    "mnb_scores = evaluate_model(pipeline_mnb, X, y, kf)\n",
    "\n",
    "# Create a DataFrame for comparison\n",
    "scores_df = pd.DataFrame({\n",
    "    'Metric': ['Accuracy', 'Precision', 'Recall', 'F1-Score'],\n",
    "    'BNB': bnb_scores,\n",
    "    'MNB': mnb_scores\n",
    "})\n",
    "\n",
    "# Display the data frame of the scores\n",
    "print(scores_df)"
   ]
  },
  {
   "cell_type": "markdown",
   "metadata": {},
   "source": [
    "Now we will plot the the scores data frame to compare the two models."
   ]
  },
  {
   "cell_type": "code",
   "execution_count": 8,
   "metadata": {},
   "outputs": [
    {
     "data": {
      "image/png": "[encoded data removed]",
      "text/plain": [
       "<Figure size 1000x600 with 1 Axes>"
      ]
     },
     "metadata": {},
     "output_type": "display_data"
    }
   ],
   "source": [
    "\n",
    "import matplotlib.pyplot as plt\n",
    "\n",
    "# Plot the comparison\n",
    "plot_axes = scores_df.set_index('Metric').plot(kind='bar', figsize=(10, 6))\n",
    "plot_axes.set_title('Model Comparison: BernoulliNB Vs MultinomialNB')\n",
    "plot_axes.set_xlabel('Metrics')\n",
    "plot_axes.set_ylabel('Scores')\n",
    "\n",
    "# Add bar labels to each container in the plot, \n",
    "# formatting the data values to 4 decimal places,\n",
    "# and positioning the labels at the edge of each bar\n",
    "for container in plot_axes.containers:\n",
    "    labels = [f'{x:.4f}' for x in container.datavalues]\n",
    "    plot_axes.bar_label(container, labels=labels, label_type='edge')\n",
    "\n",
    "    \n",
    "plot_axes.set_xticklabels(plot_axes.get_xticklabels(), rotation=0)\n",
    "plot_axes.legend(loc='lower right')\n",
    "plt.show()\n"
   ]
  },
  {
   "cell_type": "markdown",
   "metadata": {},
   "source": [
    "From the above bar chart, we can see that:\n",
    "* **Accuracy**: BNB (0.6513) is superior to MNB (0.6244).\n",
    "* **Precision**: BNB (0.7174) is significantly higher than MNB (0.6289).\n",
    "* **Recall**: BNB (0.6481) is higher than MNB (0.6237).\n",
    "* **F1-Score**: BNB (0.6521) outperforms MNB (0.6193).\n",
    "\n",
    "Therfore, Bernoulli Naive Bayes (BNB) is concluded to be the superior model for this balanced dataset, based on higher scores across all metrics.​"
   ]
  },
  {
   "cell_type": "markdown",
   "metadata": {},
   "source": [
    "### Q4 (2 marks)\n",
    "Consider varying the number of features (words) used by BNB and MNB in the classification, using the sklearn setting which limits the number to the top N most frequent words in the Vectorizer. Compare classification results for various values for N and justify, based on experimental results, one value for N that works well overall and use this value for the rest of the assignment. Show plots or tables that support your decision. The emphasis is on clear presentation of the results so do not print out large tables or too many tables that are difficult to understand.\n"
   ]
  },
  {
   "cell_type": "markdown",
   "metadata": {},
   "source": [
    "[Ans] <br>\n",
    "We will first evaluate the pefromance of BNB and MNB classifiers by different number of features(N) used by CountVectorizer, which limits the vocabulary to the top N most frequent words. For each value of features, we create pipelines and then use cross-validation to predict the labels and calculate the accuracy scores for the models. Then, we will collect and store the results in a DataFrame. The code is as follow:"
   ]
  },
  {
   "cell_type": "code",
   "execution_count": 9,
   "metadata": {},
   "outputs": [],
   "source": [
    "from sklearn.model_selection import StratifiedKFold, cross_val_predict\n",
    "from sklearn.metrics import accuracy_score\n",
    "\n",
    "# Values for N (number of features)\n",
    "n_values = [500, 1000, 2000, 5000, 10000]\n",
    "\n",
    "# Define the cross-validation method\n",
    "cv = StratifiedKFold(n_splits=5, shuffle=True, random_state=42)\n",
    "\n",
    "# Function to evaluate the models\n",
    "# 1. Initialize CountVectorizer with a maximum number of features.\n",
    "# 2. Create BernoulliNB and MultinomialNB models.\n",
    "# 3. Create pipelines combining the vectorizer and the models.\n",
    "# 4. Use cross-validation to predict the labels for both models.\n",
    "# 5. Calculate the accuracy for both models.\n",
    "# 6. Return the accuracy scores.\n",
    "def evaluate_model_with_n_features(n_features, X, y, cv):\n",
    "    vectorizer = CountVectorizer(stop_words='english', max_features=n_features)\n",
    "    \n",
    "    bnb = BernoulliNB()\n",
    "    mnb = MultinomialNB()\n",
    "    pipeline_bnb = make_pipeline(vectorizer, bnb)\n",
    "    pipeline_mnb = make_pipeline(vectorizer, mnb)\n",
    "    \n",
    "    y_pred_bnb = cross_val_predict(pipeline_bnb, X, y, cv=cv)\n",
    "    y_pred_mnb = cross_val_predict(pipeline_mnb, X, y, cv=cv)\n",
    "    \n",
    "    bnb_accuracy = accuracy_score(y, y_pred_bnb)\n",
    "    mnb_accuracy = accuracy_score(y, y_pred_mnb)\n",
    "    \n",
    "    return bnb_accuracy, mnb_accuracy\n",
    "\n",
    "# Collect results for different values of N\n",
    "results = {'Num of Features': [], 'BernoulliNB': [], 'MultinomialNB': []}\n",
    "for n in n_values:\n",
    "    bnb_accuracy, mnb_accuracy = evaluate_model_with_n_features(n, X, y, cv)\n",
    "    \n",
    "    # Store data in adjacent fields\n",
    "    results['Num of Features'].append(n)\n",
    "    results['BernoulliNB'].append(bnb_accuracy)\n",
    "    results['MultinomialNB'].append(mnb_accuracy)\n",
    "\n",
    "# Convert results to DataFrame\n",
    "results_df = pd.DataFrame(results)"
   ]
  },
  {
   "cell_type": "markdown",
   "metadata": {},
   "source": [
    "Again, we will be plotting the results data frame to compare the results visually."
   ]
  },
  {
   "cell_type": "code",
   "execution_count": 10,
   "metadata": {},
   "outputs": [
    {
     "data": {
      "image/png": "[encoded data removed]",
      "text/plain": [
       "<Figure size 1000x600 with 1 Axes>"
      ]
     },
     "metadata": {},
     "output_type": "display_data"
    },
    {
     "name": "stdout",
     "output_type": "stream",
     "text": [
      "   Num of Features  BernoulliNB  MultinomialNB\n",
      "0              500     0.790674       0.690155\n",
      "1             1000     0.760104       0.661140\n",
      "2             2000     0.721762       0.636269\n",
      "3             5000     0.695855       0.627979\n",
      "4            10000     0.680311       0.625389\n"
     ]
    }
   ],
   "source": [
    "# Plot results\n",
    "plt.figure(figsize=(10, 6))\n",
    "plt.plot(results_df['Num of Features'], results_df['BernoulliNB'], marker='o', label='BernoulliNB')\n",
    "plt.plot(results_df['Num of Features'], results_df['MultinomialNB'], marker='o', label='MultinomialNB')\n",
    "plt.title('Accuracy vs Number of Features')\n",
    "plt.xlabel('Number of Features')\n",
    "plt.ylabel('Accuracy')\n",
    "plt.legend()\n",
    "plt.grid(True)\n",
    "plt.show()\n",
    "\n",
    "# Prints the data frame to compare the scores\n",
    "print(results_df)\n"
   ]
  },
  {
   "cell_type": "markdown",
   "metadata": {},
   "source": [
    "From the results, we can see that using fewer number of features results in better accuracy, With 500 features, BernoulliNB achieves highest score of 0.790674 (~ 79.07%) and MultinomialNB achieves the highest score of  0.690155 (~  69.02%). Hence, BernoulliNB with 500 features have the best overall performance in classifying movie genres so this configuration will be used for the rest of the assignment."
   ]
  },
  {
   "cell_type": "markdown",
   "metadata": {},
   "source": [
    "### Q5 (5 marks)\n",
    "Choose one other machine learning method, perhaps one mentioned in the lecture.\n",
    "Summarize this method in a single tutorial-style paragraph and explain why you think it is suitable for topic classification for this dataset (for example, maybe other people have used this method for a similar problem). Use the implementation of this method from a standard machine learning library such as sklearn (not other people’s code from the Internet) to implement this method on the news dataset using the same text preprocessing as for BNB and MNB. If the method has any hyperparameters for tuning, explain how you will select those settings (or use the default settings), and present a concrete hypothesis for how this method will compare to BNB and MNB."
   ]
  },
  {
   "cell_type": "markdown",
   "metadata": {},
   "source": [
    "[Ans] <br>\n",
    "From the lecture, I decided to go with Random Forest. The method builds multiple decision trees and combine their results to generate more accurate and reliable predictions. \n",
    "\n",
    "**Hypothesis**: <br>\n",
    "The results for RandomForestClassifier is exepected perform better than BNB and MNB but since it is done with deafault settings, the performance might not be fully optimized.\n",
    "\n",
    "**Implementation**: <br>\n",
    " We will evalutate the performance of BNB, MNB and RandomForest Classifer by different number of features used by CountVectorizer. Then, the accuracy of each model is calculated using cross-validation and results will be collected in a dataframe. For this implementation, RandomForestClassifier is used with deafault settings."
   ]
  },
  {
   "cell_type": "code",
   "execution_count": 11,
   "metadata": {},
   "outputs": [],
   "source": [
    "# Import necessary module\n",
    "from sklearn.ensemble import RandomForestClassifier\n",
    "\n",
    "# Define the cross-validation method\n",
    "kf = StratifiedKFold(n_splits=5, shuffle=True, random_state=42)\n",
    "\n",
    "# Function to evaluate a given model with a given number of features\n",
    "def evaluate_model_with_n_features(model, n_features, X, y, cv):\n",
    "    vectorizer = CountVectorizer(max_features=n_features)\n",
    "    pipeline = make_pipeline(vectorizer, model)\n",
    "    \n",
    "    accuracy_scores = cross_val_score(pipeline, X, y, cv=cv, scoring='accuracy')\n",
    "    accuracy = accuracy_scores.mean()\n",
    "\n",
    "    return accuracy\n",
    "\n",
    "# Values for N (number of features)\n",
    "n_values = [500, 1000, 2000, 5000, 10000]\n",
    "\n",
    "# Initialize models\n",
    "bnb = BernoulliNB()\n",
    "mnb = MultinomialNB()\n",
    "rf = RandomForestClassifier(random_state=42)\n",
    "\n",
    "# Collect results for different values of N\n",
    "results = {\n",
    "    'Number of Features': [],\n",
    "    'MultinomialNB Accuracy': [],\n",
    "    'BernoulliNB Accuracy': [],\n",
    "    'RandomForest Accuracy': [],\n",
    "}\n",
    "\n",
    "for n in n_values:\n",
    "    # Evaluate BernoulliNB, MultinomialNB, Random Forest\n",
    "    bnb_accuracy = evaluate_model_with_n_features(bnb, n, X, y, kf)\n",
    "    mnb_accuracy = evaluate_model_with_n_features(mnb, n, X, y, kf)\n",
    "    rf_accuracy = evaluate_model_with_n_features(rf, n, X, y, kf)\n",
    "    \n",
    "    results['Number of Features'].append(n)\n",
    "    results['MultinomialNB Accuracy'].append(mnb_accuracy)\n",
    "    results['BernoulliNB Accuracy'].append(bnb_accuracy)\n",
    "    results['RandomForest Accuracy'].append(rf_accuracy)\n"
   ]
  },
  {
   "cell_type": "markdown",
   "metadata": {},
   "source": [
    "### Q5 (Continued) \n",
    "Conduct experiments (and show the code for these experiments) using cross-validation and  comment on whether you confirmed (or not) your hypothesis. Finally, compare this method to BNB and MNB on the metrics you used in Step 3 and choose one overall “best” method and settings for topic classification."
   ]
  },
  {
   "cell_type": "code",
   "execution_count": 12,
   "metadata": {},
   "outputs": [
    {
     "data": {
      "image/png": "[encoded data removed]",
      "text/plain": [
       "<Figure size 1000x600 with 1 Axes>"
      ]
     },
     "metadata": {},
     "output_type": "display_data"
    },
    {
     "name": "stdout",
     "output_type": "stream",
     "text": [
      "   Number of Features  MultinomialNB Accuracy  BernoulliNB Accuracy  \\\n",
      "0                 500                0.689637              0.764249   \n",
      "1                1000                0.674611              0.731088   \n",
      "2                2000                0.638860              0.698446   \n",
      "3                5000                0.635233              0.679793   \n",
      "4               10000                0.633161              0.667358   \n",
      "\n",
      "   RandomForest Accuracy  \n",
      "0               0.982383  \n",
      "1               0.986010  \n",
      "2               0.984456  \n",
      "3               0.973575  \n",
      "4               0.961658  \n"
     ]
    }
   ],
   "source": [
    "# Convert results to DataFrame\n",
    "results_df = pd.DataFrame(results)\n",
    "\n",
    "# Plot results\n",
    "plt.figure(figsize=(10, 6))\n",
    "for model in ['MultinomialNB Accuracy', 'BernoulliNB Accuracy', 'RandomForest Accuracy']:\n",
    "    plt.plot(results_df['Number of Features'], results_df[model], marker='o', label=model)\n",
    "    \n",
    "plt.title('Accuracy vs Number of Features')\n",
    "plt.xlabel('Number of Features')\n",
    "plt.ylabel('Accuracy')\n",
    "plt.legend()\n",
    "plt.grid(True)\n",
    "plt.show()\n",
    "\n",
    "# Display the results DataFrame\n",
    "print(results_df)"
   ]
  },
  {
   "cell_type": "markdown",
   "metadata": {},
   "source": [
    "Based on the graph and output of the dataframe, the RandomForestClassifier consistently outperformed both BNB and MNB across all values of features. Hence, this proves my hypothesis.\n",
    "\n",
    "Although BNB and MNB has the highest accuracy using 500 features, RandomForestClassifer provides the highes accuracy at 1000 features. Thus, RandomForestClaasifer will be chosen as the best method with the setting of 1000 features for topic classification."
   ]
  },
  {
   "cell_type": "markdown",
   "metadata": {},
   "source": [
    "## Part 2\n",
    "\n",
    "### Q1 (6 marks)\n",
    " Consider the information retrieval algorithms for “matching” user profiles to “documents” described in the lecture. The basic idea is that the classifier will be used to assign a movie to one of the 8 classes, and the user profile will consist of the words, or top M words, in a set of movies of interest to that user for each of the 8 classes, which can then be converted into a vector (term frequency, tf-idf, etc.) for each of the 8 categories. CountVectorizer or TfidfVectorizer can be used for the conversion.\n",
    "\n",
    "Suppose a user sees N recommended movies articles in a sitting, and “likes” some of them. Choose and justify appropriate metrics to evaluate the performance of the recommendation method. Also choose an appropriate value for N based on how you think the movies will be presented. Pay attention to the large variety of movies and the need to obtain useful feedback from the user.\n",
    "\n",
    "Unfortunately we do not have any real users for our system (because it has not yet been built!), but we want some idea of how well it would perform. We will invent two hypothetical users, and simulate their usage of the system. We specify the interests of each user with a set of keywords for each genre. These user profiles can be found in the files `user1.tsv` and `user2.tsv` where each line in the file is a genre and (followed by a tab) a list of keywords. All the words are case insensitive. For the purpose of this exercise, we consider that the users are not interested in any other movies. **Important: Although we know the pairing of the genres and keywords, all the recommender system “knows” is what movies the user liked in each genre.**\n",
    "\n",
    "We now need to consider how we would get training data for the user profiles in practice. There are 250 movies in each file. Suppose that the order in the file is the time ordering of the movies, and for concreteness, suppose these movies came from a series of weeks, so that the Week 1 movies are 1–50, Week 2 are 51–100, Week 3 are 101–150 and Week 4 are 151–200 (and ignore the others).\n",
    "\n",
    "Develop user profiles for User 1 and User 2 from the simulated training data (not the keywords used to define their interests) by supposing they liked all the movies from Weeks 1–3 that matched their interests including being predicted to be in the right category (i.e. assume the true genre is not known and the topic classifier is used to predict the movie genre). Print the top 20 words in their profiles for each of their topics of interest. Comment if these words seem reasonable."
   ]
  },
  {
   "cell_type": "markdown",
   "metadata": {},
   "source": [
    "[Ans]<br>\n",
    "Firstly, we are going to to do some imports and inital setup by setting the dataset. Secondly, We will preprocess the the data with the chosen combination from part 1 which is Lowercasing, Removal of Stopwords ( which are from NLTK library) and Lemmatizing. Afterwards, the dataset will be split into two sections with first 150 being the training set and next 50 for the testing set of data. Then we will vectorize the documents using the chosen setting of ```max_features`` as 1000 and train our classifers using default settings."
   ]
  },
  {
   "cell_type": "code",
   "execution_count": 13,
   "metadata": {},
   "outputs": [],
   "source": [
    "## Importing Necessary Moduels (again just in case!)\n",
    "from collections import defaultdict\n",
    "import nltk\n",
    "from nltk.corpus import stopwords\n",
    "from nltk.tokenize import word_tokenize\n",
    "from nltk.stem import WordNetLemmatizer\n",
    "import numpy as np\n",
    "import pandas as pd\n",
    "from sklearn.feature_extraction.text import TfidfVectorizer\n",
    "from sklearn.ensemble import RandomForestClassifier"
   ]
  },
  {
   "cell_type": "code",
   "execution_count": 14,
   "metadata": {},
   "outputs": [],
   "source": [
    "## Loading and initialising the dataset\n",
    "\n",
    "# Define the genre labels and file paths\n",
    "genre_labels = [\"animation\", \"comedy\", \"drama\", \"family\", \"horror\", \"romance\", \"sci-fi\", \"thriller\"]\n",
    "# NOTE: You can modify directory for the dataset here\n",
    "genre_files = [f\"{dataset_dir}/{genre}.tsv\" for genre in genre_labels] \n",
    "\n",
    "genre_dict = {}\n",
    "\n",
    "# Check if each genre file exists and read it\n",
    "for file_path, genre in zip(genre_files, genre_labels):\n",
    "    try:\n",
    "        df = pd.read_csv(file_path, sep='\\t')\n",
    "        df.columns = [\"Title\", \"Year\", \"Genre\", \"Director\", \"Cast\", \"Plot\", \"Country\"]\n",
    "        # Create 'Document' column by linking relevant fields\n",
    "        df['Document'] = df.apply(lambda row: f\"{row['Title']} {row['Year']} {row['Genre']} {row['Director']} {row['Cast']} {row['Plot']} {row['Country']}\", axis=1)\n",
    "        genre_dict[genre] = df\n",
    "    except Exception as e:\n",
    "        print(f\"An error occurred while reading {file_path}: {e}\")"
   ]
  },
  {
   "cell_type": "code",
   "execution_count": 15,
   "metadata": {},
   "outputs": [
    {
     "name": "stderr",
     "output_type": "stream",
     "text": [
      "[nltk_data] Downloading package stopwords to\n",
      "[nltk_data]     C:\\Users\\z5271\\AppData\\Roaming\\nltk_data...\n",
      "[nltk_data]   Package stopwords is already up-to-date!\n",
      "[nltk_data] Downloading package punkt to\n",
      "[nltk_data]     C:\\Users\\z5271\\AppData\\Roaming\\nltk_data...\n",
      "[nltk_data]   Package punkt is already up-to-date!\n"
     ]
    }
   ],
   "source": [
    "##  Preprocessing the data\n",
    "\n",
    "nltk.download('stopwords')\n",
    "nltk.download('punkt')\n",
    "\n",
    "stop_words = set(stopwords.words('english'))\n",
    "pl = WordNetLemmatizer()\n",
    "\n",
    "def preprocess_text(text):\n",
    "    text = text.lower()\n",
    "    tokens = word_tokenize(text)\n",
    "    tokens = [word for word in tokens if word not in stop_words]\n",
    "    tokens = [pl.lemmatize(word) for word in tokens]\n",
    "    return ' '.join(tokens)\n",
    "\n",
    "for genre, df in genre_dict.items():\n",
    "    df['Document'] = df['Document'].apply(preprocess_text)"
   ]
  },
  {
   "cell_type": "code",
   "execution_count": 16,
   "metadata": {},
   "outputs": [],
   "source": [
    "## Splitting the dataset\n",
    "\n",
    "# 0 to 150 => training set of data (used for user profiles)\n",
    "# 150 to 200 => testing set of data (probably used for recommendations)\n",
    "training_set = pd.concat([df.iloc[:150] for df in genre_dict.values()])\n",
    "testing_set = pd.concat([df.iloc[150:200] for df in genre_dict.values()])"
   ]
  },
  {
   "cell_type": "code",
   "execution_count": 17,
   "metadata": {},
   "outputs": [],
   "source": [
    "## Vectoriziong the documents\n",
    "\n",
    "# Keeping max_features = 1000 ( chosen setting from Part 1) \n",
    "tfidf_vectorizer = TfidfVectorizer(max_features=1000)\n",
    "train_tfidf = tfidf_vectorizer.fit_transform(training_set['Document'])\n",
    "test_tfidf = tfidf_vectorizer.transform(testing_set['Document'])"
   ]
  },
  {
   "cell_type": "code",
   "execution_count": 18,
   "metadata": {},
   "outputs": [],
   "source": [
    "## Training the classifer\n",
    "\n",
    "# Using RandomForest method as it was chosen from Part 1\n",
    "# We are using default settings\n",
    "classifier = RandomForestClassifier(random_state=42)\n",
    "classifier.fit(train_tfidf, training_set['Genre'])\n",
    "\n",
    "# Predict genres for these movies\n",
    "training_set['Predicted_Genre'] = classifier.predict(tfidf_vectorizer.transform(training_set['Document']))"
   ]
  },
  {
   "cell_type": "markdown",
   "metadata": {},
   "source": [
    "Now that we have data setup, we are now going to start with the user side of things. As mentioned in the question, using the provided user1.tsv and user2.tsv, we will fruther develop their profiles based on our trianing set and user's intial data, then average TF-IDF vectors of the movies they like.A Afterwards, we willl extract top 20 words in each genre from each user's profiles and output them."
   ]
  },
  {
   "cell_type": "code",
   "execution_count": 19,
   "metadata": {},
   "outputs": [],
   "source": [
    "## Loading user 1 and 2\n",
    "# NOTE: set your directory to user data here\n",
    "# Initially the directory is set as empty because the datafile is in same directory as this file.\n",
    "user_data_dir = \"\"\n",
    "\n",
    "user1 = pd.read_csv(f\"{user_data_dir}user1.tsv\", sep='\\t', header=None, names=['Genre', 'Words'])\n",
    "user2 = pd.read_csv(f\"{user_data_dir}user2.tsv\", sep='\\t', header=None, names=['Genre', 'Words'])"
   ]
  },
  {
   "cell_type": "code",
   "execution_count": 20,
   "metadata": {},
   "outputs": [],
   "source": [
    "## Create Profles for each users\n",
    "\n",
    "# Function to develop user profiles based on data of training set\n",
    "def develop_profiles(user_data, training_set):\n",
    "    updated_profile = defaultdict(lambda: np.zeros(tfidf_vectorizer.max_features))\n",
    "\n",
    "    # Ensure user_profile is initialized for all genres in user data\n",
    "    for index, row in user_data.iterrows():\n",
    "        genre = row['Genre']\n",
    "        if genre not in updated_profile:\n",
    "            updated_profile[genre] = np.zeros(tfidf_vectorizer.max_features)\n",
    "\n",
    "        # Update the profile with user's initial profile data\n",
    "        user_words = row['Words'].split()\n",
    "        for word in user_words:\n",
    "            if word in tfidf_vectorizer.vocabulary_:\n",
    "                word_index = tfidf_vectorizer.vocabulary_[word]\n",
    "                updated_profile[genre][word_index] += 1\n",
    "    \n",
    "    # Update the profile for each genre based on liked movies\n",
    "    for genre in user_data['Genre'].unique():\n",
    "        genre_movies = training_set[training_set['Predicted_Genre'] == genre]\n",
    "        \n",
    "        if not genre_movies.empty:\n",
    "            genre_vectors = tfidf_vectorizer.transform(genre_movies['Document']).toarray()\n",
    "            updated_profile[genre] += np.mean(genre_vectors, axis=0)\n",
    "        else:\n",
    "            print(f\"No movies found for genre: {genre}\")\n",
    "    \n",
    "    # Normalize user profile vectors\n",
    "    for genre in updated_profile:\n",
    "        norm = np.linalg.norm(updated_profile[genre])\n",
    "        if norm > 0:\n",
    "            updated_profile[genre] = updated_profile[genre] / norm\n",
    "    \n",
    "    return updated_profile\n",
    "\n",
    "# Create the user profiles\n",
    "user1_profile = develop_profiles(user1, training_set)\n",
    "user2_profile = develop_profiles(user2, training_set)"
   ]
  },
  {
   "cell_type": "code",
   "execution_count": 21,
   "metadata": {},
   "outputs": [
    {
     "name": "stdout",
     "output_type": "stream",
     "text": [
      "User(1)'s top words:\n",
      "Genre: animation, Top Words: princess, dragon, dog, cat, animation, find, king, friend, animal, back, city, return, life, escape, help, try, one, named, father, new\n",
      "Genre: comedy, Top Words: chase, comedy, chinese, wang, get, li, friend, go, love, chen, amy, yang, one, zhang, find, 2015, 2016, 2017, life, year\n",
      "Genre: drama, Top Words: family, wedding, drama, 2017, school, chinese, 2016, life, father, two, mother, japanese, year, screenplay, high, one, student, new, story, friend\n",
      "Genre: family, Top Words: family, father, dog, harry, find, mother, school, get, tell, go, child, take, home, back, friend, return, boy, one, mr, life\n",
      "Genre: horror, Top Words: vampire, ghost, video, footage, horror, house, find, kill, group, zombie, body, death, paul, later, night, room, family, killed, child, human\n",
      "Genre: romance, Top Words: girlfriend, dance, boyfriend, romance, love, relationship, school, life, father, year, time, kong, friend, chinese, li, one, mother, go, hong, woman\n",
      "Genre: sci-fi, Top Words: alien, robot, fi, sci, ship, planet, earth, human, kill, find, creature, paul, dr, one, escape, force, time, world, back, attack\n",
      "Genre: thriller, Top Words: murder, kill, killer, crime, thriller, police, man, find, car, sara, david, go, tell, one, ben, wife, two, child, american, house\n",
      "\n",
      "User(2)'s top words:\n",
      "Genre: animation, Top Words: bear, animation, find, king, friend, animal, back, city, return, life, escape, help, try, one, named, father, new, family, take, world\n",
      "Genre: comedy, Top Words: road, trip, comedy, chinese, wang, get, li, friend, go, love, chen, amy, yang, one, zhang, find, 2015, 2016, 2017, life\n",
      "Genre: family, Top Words: magic, family, father, dog, harry, find, mother, school, get, tell, go, child, take, home, back, friend, return, boy, one, mr\n"
     ]
    }
   ],
   "source": [
    "## Extract Top 20 words and output them\n",
    "\n",
    "# Function to extract top 20 words for each genre (PART-2.q1: N=20)\n",
    "def get_top_words(user_profile):\n",
    "    feature_names = tfidf_vectorizer.get_feature_names_out()\n",
    "    top_words_list = []\n",
    "    N = 20;\n",
    "\n",
    "    for genre, vector in user_profile.items():\n",
    "        top_indices = vector.argsort()[-N:][::-1]\n",
    "        top_words = [feature_names[i] for i in top_indices]\n",
    "        top_words_list.append({'Genre': genre, 'Word-list': top_words})\n",
    "    \n",
    "    return top_words_list\n",
    "\n",
    "# Function to print the top words of each users\n",
    "def print_top_words(user_top_words):\n",
    "    for entry in user_top_words:\n",
    "        genre = entry['Genre']\n",
    "        words = entry['Word-list']\n",
    "        print(f\"Genre: {genre}, Top Words: {', '.join(words)}\")\n",
    "    \n",
    "\n",
    "# Fetch and output the top words of each genre for each user \n",
    "user1_tw = get_top_words(user1_profile)\n",
    "user2_tw = get_top_words(user2_profile)\n",
    "\n",
    "print(\"User(1)'s top words:\")\n",
    "print_top_words(user1_tw)\n",
    "\n",
    "print(\"\\nUser(2)'s top words:\")\n",
    "print_top_words(user2_tw)"
   ]
  },
  {
   "cell_type": "markdown",
   "metadata": {},
   "source": [
    "From observation, the words from each genre seem reasonable and well aligned with the genre. For example, the words such as princess, dragon, dog and cat , fits with the category \"animation\". This indicates the profiles generated reflect the expected content of the movies within each genre."
   ]
  },
  {
   "cell_type": "markdown",
   "metadata": {},
   "source": [
    "### Q1(continued)\n",
    "Define another hypothetical “user” (User 3) by choosing different keywords across a range of genres (perhaps those that match your interests or those of someone you know), and print the top 20 keywords in their profile for each of their topics of interest. Comment if these words seem reasonable."
   ]
  },
  {
   "cell_type": "markdown",
   "metadata": {},
   "source": [
    "[Ans]<br>\n",
    "Now we are going define user 3 with with different keywords. First, we are going to convert the user3 into a dataframe but unlike user 1 and 2, we have to develop the user profile based on the defined keywords and create the profile. Then, same as previous step, we will extract top 20 words and then output them."
   ]
  },
  {
   "cell_type": "code",
   "execution_count": 22,
   "metadata": {},
   "outputs": [
    {
     "name": "stdout",
     "output_type": "stream",
     "text": [
      "\n",
      "User 3's top words:\n",
      "Genre: animation, Top Words: family, animation, find, king, friend, animal, back, city, return, life, escape, help, try, one, named, father, new, take, world, bear\n",
      "Genre: comedy, Top Words: comedy, chinese, wang, get, li, friend, go, love, chen, amy, yang, one, zhang, find, 2015, 2016, 2017, life, year, time\n",
      "Genre: drama, Top Words: relationship, drama, 2017, school, chinese, 2016, life, father, two, mother, japanese, year, screenplay, high, one, student, new, family, story, friend\n",
      "Genre: horror, Top Words: ghost, thriller, horror, house, find, kill, group, zombie, body, death, vampire, paul, later, night, room, family, killed, child, human, student\n",
      "Genre: family, Top Words: family, father, dog, harry, find, mother, school, get, tell, go, child, take, home, back, friend, return, boy, one, mr, life\n",
      "Genre: romance, Top Words: romance, love, relationship, school, life, father, year, time, kong, friend, chinese, li, one, mother, go, hong, woman, meet, lin, girl\n",
      "Genre: sci-fi, Top Words: alien, fi, sci, ship, robot, planet, earth, human, kill, find, creature, paul, dr, one, escape, force, time, world, back, attack\n",
      "Genre: thriller, Top Words: thriller, police, man, find, murder, car, sara, kill, david, go, tell, one, ben, wife, two, child, american, house, take, killer\n"
     ]
    }
   ],
   "source": [
    "# Define User 3 with predefined words\n",
    "user3 = {\n",
    "    'animation': 'funny adventure family',\n",
    "    'comedy': 'funny humor laugh',\n",
    "    'drama': 'serious emotional relationship',\n",
    "    'horror': 'scary ghost thriller',\n",
    "}\n",
    "\n",
    "# Function to develop user profiles based keywords\n",
    "def usr3_develop_profiles(user_data, training_set):\n",
    "    updated_profile = defaultdict(lambda: np.zeros(tfidf_vectorizer.max_features))\n",
    "\n",
    "    # Ensure user_profile is initialized for all genres in user data\n",
    "    for index, row in user_data.iterrows():\n",
    "        genre = row['Genre']\n",
    "        if genre not in updated_profile:\n",
    "            updated_profile[genre] = np.zeros(tfidf_vectorizer.max_features)\n",
    "\n",
    "        # Update the profile with user's initial profile data\n",
    "        user_words = row['Words'].split()\n",
    "        for word in user_words:\n",
    "            if word in tfidf_vectorizer.vocabulary_:\n",
    "                word_index = tfidf_vectorizer.vocabulary_[word]\n",
    "                updated_profile[genre][word_index] += 1\n",
    "    \n",
    "    # Update the profile for each genre based on liked movies\n",
    "    for genre in training_set['Genre'].unique():\n",
    "        genre_movies = training_set[training_set['Predicted_Genre'] == genre]\n",
    "        \n",
    "        if not genre_movies.empty:\n",
    "            genre_vectors = tfidf_vectorizer.transform(genre_movies['Document']).toarray()\n",
    "            updated_profile[genre] += np.mean(genre_vectors, axis=0)\n",
    "        else:\n",
    "            print(f\"No movies found for genre: {genre}\")\n",
    "    \n",
    "    # Normalize user profile vectors\n",
    "    for genre in updated_profile:\n",
    "        norm = np.linalg.norm(updated_profile[genre])\n",
    "        if norm > 0:\n",
    "            updated_profile[genre] = updated_profile[genre] / norm\n",
    "    \n",
    "    return updated_profile\n",
    "\n",
    "# Convert User 3 data to DataFrame\n",
    "user3_df = pd.DataFrame(list(user3.items()), columns=['Genre', 'Words'])\n",
    "user3_profile = usr3_develop_profiles(user3_df, training_set)\n",
    "\n",
    "# Fetch and output the top words of each genre for User 3\n",
    "user3_tw = get_top_words(user3_profile)\n",
    "print(\"\\nUser 3's top words:\")\n",
    "print_top_words(user3_tw)\n"
   ]
  },
  {
   "cell_type": "markdown",
   "metadata": {},
   "source": [
    "From observation, although most words are fitting with the relative genres, there are repetitive words that appear in some genre. For example, the word \"friend\" appearing in animation, drama family , comedy and romance categories. The recurring words is logical becasuse there weren't any keywords provided for all genres so the profile creation process has the capable of providing logical insight despite the missing data."
   ]
  },
  {
   "cell_type": "markdown",
   "metadata": {},
   "source": [
    "#### Q2 (6 marks)\n",
    "Suppose a user sees N recommended movies and “likes” some of them. Choose and justify appropriate metrics to evaluate the performance of the recommendation method. Also choose an appropriate value for N based on how you think the movies will be presented. Pay attention to the large variety of movies and the need to obtain useful feedback from the user (i.e. they must like some movies shown to them).\n",
    "\n",
    "Evaluate the performance of the recommendation method by testing how well the top N movies that the recommender suggests for Week 4, based on the user profiles, match the interests of each user. That is, assume that each user likes all and only those movies in the top N recommendations that matched their profile for the predicted (not true) genre (where N is your chosen value). State clearly whether you are showing N movies in total or N movies per genre. As part of the analysis, consider various values for M, the number of words in the user profile for each genre, compared to using all words.\n",
    "\n",
    "Show the metrics for some of the matching algorithms to see which performs better for Users 1, 2 and 3. Explain any differences between the users. On the basis of these results, choose one algorithm for matching user profiles and movies and explain your decision."
   ]
  },
  {
   "cell_type": "markdown",
   "metadata": {},
   "source": [
    "[Ans]<br>\n",
    "In this question, we are firsly going to combine vectors in user profile into one single vector then we will use the vectors to match the top 10 recommendations. I am choosing the number ten because it is good amount of number that a user would be willing to read the list where the amount is not too much or too little. Then, the top 20 recommended movies will be outputed.\n",
    "\n",
    "For getting the top recommendations, we will be using **cosine_similary** form ```sklearn.metrics.pairwise``` libarary. This tool's function is to measure how two vectors are similar which would be applicable when we compare vectors of user profile and testing data set."
   ]
  },
  {
   "cell_type": "code",
   "execution_count": 23,
   "metadata": {},
   "outputs": [],
   "source": [
    "## Get top 20 recommendation for each user\n",
    "\n",
    "# Import necessary module\n",
    "from sklearn.metrics.pairwise import cosine_similarity\n",
    "\n",
    "# Function to combine user profile vectors into a single vector\n",
    "# Have eight genres => combined into a vector\n",
    "def combine_user_profile(user_profile):\n",
    "    combined_vector = np.zeros(tfidf_vectorizer.max_features)\n",
    "    for vector in user_profile.values():\n",
    "        combined_vector += vector\n",
    "    norm = np.linalg.norm(combined_vector)\n",
    "    if norm > 0:\n",
    "        combined_vector = combined_vector / norm\n",
    "    return combined_vector\n",
    "\n",
    "# Function to get top N recommendations for a combined user profile\n",
    "def get_top_recommendations(user_profile, test_tfidf):\n",
    "    # top N movies that recommander suggestes for Week 4\n",
    "    top_n = 10 \n",
    "    \n",
    "    combined_profile = combine_user_profile(user_profile)\n",
    "    similarities = cosine_similarity(combined_profile.reshape(1, -1), test_tfidf).flatten()\n",
    "    top_indices = similarities.argsort()[-top_n:][::-1]\n",
    "    return top_indices\n",
    "\n",
    "# Function to print the top recommendations\n",
    "def print_recommendations(top_indices, test_set):\n",
    "    for i, idx in enumerate(top_indices, start=1):\n",
    "            movie = test_set.iloc[idx]\n",
    "            print(f\"{i}. {movie['Title']}, Genre: {movie['Genre']}, Year: {movie['Year']}\")"
   ]
  },
  {
   "cell_type": "markdown",
   "metadata": {},
   "source": [
    "Now, we are going to do some calculate and evaluate the metric scores of each user profiles.\n",
    "\n",
    "As done in previous part, we are going to be working with precision, f1 and recall scores. Precision score will indicate whether the the model makes correct prediciton and on the flip side, recall shows whether the model is missing a large number of relevant instances. F1 relects the balance between the two scores.\n",
    "\n",
    "For the value of M, I am choosing 500 words for number of words in each genre in a user profile."
   ]
  },
  {
   "cell_type": "code",
   "execution_count": 24,
   "metadata": {},
   "outputs": [
    {
     "name": "stdout",
     "output_type": "stream",
     "text": [
      "User 1's metrics:\n",
      "{'precision': 0.9259999999999999, 'recall': 0.10385025931863848, 'f1_score': 0.18657112890512667}\n",
      "\n",
      "User 2's metrics:\n",
      "{'precision': 0.9313333333333333, 'recall': 0.09788534227205133, 'f1_score': 0.17714678744516377}\n",
      "\n",
      "User 3's metrics:\n",
      "{'precision': 0.9257500000000001, 'recall': 0.10382348125522803, 'f1_score': 0.1865227542921236}\n"
     ]
    }
   ],
   "source": [
    "## Calculation and Evaluation of Metric Scores for each users\n",
    "\n",
    "# Number of M ( number of words in each genre in user profile)\n",
    "TOP_M = 500\n",
    "\n",
    "# Generate recommendations based on top N words for each profile\n",
    "def generate_recommendations(user_profile, top_n=TOP_M):\n",
    "    feature_names = tfidf_vectorizer.get_feature_names_out()\n",
    "    recommendations = defaultdict(list)\n",
    "    \n",
    "    for genre, vector in user_profile.items():\n",
    "        top_indices = vector.argsort()[-top_n:][::-1]\n",
    "        top_words = [feature_names[i] for i in top_indices]\n",
    "        recommendations[genre] = top_words\n",
    "    \n",
    "    return recommendations\n",
    "\n",
    "# Evaluate recommendations for each profile\n",
    "def evaluate_recommendations(profile_recommendations, testing_set, top_n=TOP_M):\n",
    "    precision_scores = []\n",
    "    recall_scores = []\n",
    "    f1_scores = []\n",
    "\n",
    "    # Loop through each genre in the recommendations,\n",
    "    # and compute precision, recall, and F1 scores by comparing\n",
    "    # recommended words to actual words in the testing set\n",
    "    for genre, recommended_words in profile_recommendations.items():\n",
    "        genre_documents = testing_set[testing_set['Genre'] == genre]['Document']\n",
    "        actual_words = set()\n",
    "        \n",
    "        for doc in genre_documents:\n",
    "            actual_words.update(word_tokenize(doc))\n",
    "        \n",
    "        recommended_words_set = set(recommended_words[:top_n])\n",
    "\n",
    "        true_positives = len(recommended_words_set & actual_words)\n",
    "        false_positives = len(recommended_words_set - actual_words)\n",
    "        false_negatives = len(actual_words - recommended_words_set)\n",
    "\n",
    "        precision = true_positives / (true_positives + false_positives) if (true_positives + false_positives) > 0 else 0\n",
    "        recall = true_positives / (true_positives + false_negatives) if (true_positives + false_negatives) > 0 else 0\n",
    "        f1 = 2 * (precision * recall) / (precision + recall) if (precision + recall) > 0 else 0\n",
    "\n",
    "        precision_scores.append(precision)\n",
    "        recall_scores.append(recall)\n",
    "        f1_scores.append(f1)\n",
    "\n",
    "    return {\n",
    "        'precision': np.mean(precision_scores),\n",
    "        'recall': np.mean(recall_scores),\n",
    "        'f1_score': np.mean(f1_scores)\n",
    "    }\n",
    "\n",
    "# Generate recommendations for each user\n",
    "user1_recommendations = generate_recommendations(user1_profile)\n",
    "user2_recommendations = generate_recommendations(user2_profile)\n",
    "user3_recommendations = generate_recommendations(user3_profile)\n",
    "\n",
    "# Evaluate recommendations for each user\n",
    "user1_metrics = evaluate_recommendations(user1_recommendations, testing_set)\n",
    "user2_metrics = evaluate_recommendations(user2_recommendations, testing_set)\n",
    "user3_metrics = evaluate_recommendations(user3_recommendations, testing_set)\n",
    "\n",
    "\n",
    "# Output the evaluation metrics of each users\n",
    "print(\"User 1's metrics:\")\n",
    "print(user1_metrics)\n",
    "\n",
    "print(\"\\nUser 2's metrics:\")\n",
    "print(user2_metrics)\n",
    "\n",
    "print(\"\\nUser 3's metrics:\")\n",
    "print(user3_metrics)"
   ]
  },
  {
   "cell_type": "markdown",
   "metadata": {},
   "source": [
    "Now that we have the scores, we are going to plot them."
   ]
  },
  {
   "cell_type": "code",
   "execution_count": 25,
   "metadata": {},
   "outputs": [
    {
     "data": {
      "image/png": "[encoded data removed]",
      "text/plain": [
       "<Figure size 1000x600 with 1 Axes>"
      ]
     },
     "metadata": {},
     "output_type": "display_data"
    }
   ],
   "source": [
    "## Plotting the metric scores for three users\n",
    "\n",
    "# Combine the metrics for all users into a single dictionary for easy plotting\n",
    "user_metrics = {\n",
    "    'User 1': user1_metrics,\n",
    "    'User 2': user2_metrics,\n",
    "    'User 3': user3_metrics\n",
    "}\n",
    "\n",
    "def plot_comparative_metrics(user_metrics):\n",
    "    metrics = ['precision', 'recall', 'f1_score']\n",
    "    users = list(user_metrics.keys())\n",
    "    scores = {metric: [user_metrics[user][metric] for user in users] for metric in metrics}\n",
    "\n",
    "    x = np.arange(len(users))  \n",
    "    width = 0.2\n",
    "\n",
    "    fig, ax = plt.subplots(figsize=(10, 6))\n",
    "    \n",
    "    bars_precision = ax.bar(x - width, scores['precision'], width, label='Precision', color='blue')\n",
    "    bars_recall = ax.bar(x, scores['recall'], width, label='Recall', color='green')\n",
    "    bars_f1 = ax.bar(x + width, scores['f1_score'], width, label='F1 Score', color='red')\n",
    "\n",
    "    ax.set_ylabel('Scores')\n",
    "    ax.set_title('Metric Scores between Users')\n",
    "    ax.set_xticks(x)\n",
    "    ax.set_xticklabels(users)\n",
    "    ax.legend()\n",
    "\n",
    "    # Showing the value of each bar\n",
    "    for bars in [bars_precision, bars_recall, bars_f1]:\n",
    "        for bar in bars:\n",
    "            height = bar.get_height()\n",
    "            ax.annotate(f'{height:.5f}', xy=(bar.get_x() + bar.get_width() / 2, height))\n",
    "\n",
    "    plt.show()\n",
    "\n",
    "plot_comparative_metrics(user_metrics)"
   ]
  },
  {
   "cell_type": "markdown",
   "metadata": {},
   "source": [
    "From observation, The precision scores are high overall across all three users. However, recall and f1 struggles overall. On theoery, the recommendation system would be more efficient if it is trained over the keywords but my result doesn't agree with the staement."
   ]
  }
 ],
 "metadata": {
  "kernelspec": {
   "display_name": ".venv",
   "language": "python",
   "name": "python3"
  },
  "language_info": {
   "codemirror_mode": {
    "name": "ipython",
    "version": 3
   },
   "file_extension": ".py",
   "mimetype": "text/x-python",
   "name": "python",
   "nbconvert_exporter": "python",
   "pygments_lexer": "ipython3",
   "version": "3.12.4"
  }
 },
 "nbformat": 4,
 "nbformat_minor": 2
}
